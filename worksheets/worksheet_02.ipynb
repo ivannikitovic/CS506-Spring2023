{
 "cells": [
  {
   "attachments": {},
   "cell_type": "markdown",
   "metadata": {},
   "source": [
    "# Worksheet 02\n",
    "\n",
    "Name: Ivan Nikitovic  \n",
    "UID: U91810047\n",
    "\n",
    "### Topics\n",
    "\n",
    "- Effective Programming\n",
    "\n",
    "### Effective Programming\n",
    "\n",
    "a) What is a drawback of the top down approach?"
   ]
  },
  {
   "attachments": {},
   "cell_type": "markdown",
   "metadata": {},
   "source": [
    "- Need to plan everything out before going into the code, likely prolonging development time."
   ]
  },
  {
   "cell_type": "markdown",
   "metadata": {},
   "source": [
    "b) What is a drawback of the bottom up approach?"
   ]
  },
  {
   "attachments": {},
   "cell_type": "markdown",
   "metadata": {},
   "source": [
    "- No clear and obvious idea of the complete system, therefore causing re-coding."
   ]
  },
  {
   "cell_type": "markdown",
   "metadata": {},
   "source": [
    "c) What are 3 things you can do to have a better debugging experience?"
   ]
  },
  {
   "attachments": {},
   "cell_type": "markdown",
   "metadata": {},
   "source": [
    "- Read the error\n",
    "- Re-read the code\n",
    "- Look online for some help"
   ]
  },
  {
   "attachments": {},
   "cell_type": "markdown",
   "metadata": {},
   "source": [
    "d) (Optional) Follow along with the live coding. You can write your code here:"
   ]
  },
  {
   "cell_type": "code",
   "execution_count": null,
   "metadata": {},
   "outputs": [],
   "source": [
    "class Board():\n",
    "\n",
    "    def __init__(self):\n",
    "        self.queen = \"Q\"\n",
    "        self.blank = \"-\"\n",
    "        self.board = [[self.blank for i in range(8)] for i in range(8)]\n",
    "\n",
    "    def __repr__(self) -> str:\n",
    "        return \"\\n\".join([\" \".join(x) for x in self.board])\n",
    "\n",
    "    def is_queen(self, row, col):\n",
    "        return self.board[row][col] == self.queen\n",
    "\n",
    "    def is_valid_row(self, row, col):\n",
    "        for j in range(8):\n",
    "            if self.is_queen(row, j):\n",
    "                return False\n",
    "        return True \n",
    "\n",
    "    def is_valid_col(self, row, col):\n",
    "        for i in range(8):\n",
    "            if self.is_queen(i, col):\n",
    "                return False\n",
    "        return True \n",
    "\n",
    "    def is_valid_diag(self, row, col):\n",
    "        for i in range(8):\n",
    "            if self.is_queen(row - i, col - i):\n",
    "                return False\n",
    "\n",
    "    def is_valid_move(self, row, col):\n",
    "        # if self.num_queens() > 8:\n",
    "        #     return False\n",
    "        if not self.is_valid_row(row, col):\n",
    "            return False\n",
    "        if not self.is_valid_col(row, col):\n",
    "            return False\n",
    "        if not self.is_valid_diag(row, col):\n",
    "            return False\n",
    "        return True\n",
    "\n",
    "    def set_queen_on(self, row, col):\n",
    "        self.board[row][col] = \"Q\"\n",
    "\n",
    "    def unset_queen_on(self, row, col):\n",
    "        self.board[row][col] = \"-\"\n",
    "\n",
    "    def find_queen_on(self, row):\n",
    "        for col in range(8):\n",
    "            if self.is_queen(row, col):\n",
    "                return col\n",
    "        raise ValueError(\"programmer error\")\n",
    "\n",
    "    def search(self):\n",
    "        row = 0\n",
    "        col = 0\n",
    "        while row < 8:\n",
    "            if self.is_valid_move(row, col):\n",
    "                self.set_queen_on(row, col)\n",
    "                row += 1\n",
    "                col = 0\n",
    "            else:\n",
    "                col += 1\n",
    "                if col >= 8:\n",
    "                    # backtrack\n",
    "                    col = self.find_queen_on(row - 1)\n",
    "                    self.unset_queen_on(row - 1)\n",
    "                    row -= 1\n",
    "        \n",
    "        # found a solution\n",
    "        print(self)\n",
    "\n",
    "board = Board()\n",
    "board.search()"
   ]
  }
 ],
 "metadata": {
  "kernelspec": {
   "display_name": "base",
   "language": "python",
   "name": "python3"
  },
  "language_info": {
   "codemirror_mode": {
    "name": "ipython",
    "version": 3
   },
   "file_extension": ".py",
   "mimetype": "text/x-python",
   "name": "python",
   "nbconvert_exporter": "python",
   "pygments_lexer": "ipython3",
   "version": "3.7.6 (default, Jan  8 2020, 20:23:39) [MSC v.1916 64 bit (AMD64)]"
  },
  "orig_nbformat": 4,
  "vscode": {
   "interpreter": {
    "hash": "9443dbc4af261a679db7361e4fef379be039446ed078234c5501168aa1f70fde"
   }
  }
 },
 "nbformat": 4,
 "nbformat_minor": 2
}
