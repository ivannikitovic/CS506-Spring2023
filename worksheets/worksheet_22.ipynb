{
 "cells": [
  {
   "attachments": {},
   "cell_type": "markdown",
   "metadata": {},
   "source": [
    "# Worksheet 22\n",
    "\n",
    "Name:   Ivan Nikitovic\n",
    "\n",
    "UID:    U91810047\n",
    "\n",
    "### Topics\n",
    "\n",
    "- Networks & Graphs\n",
    "\n",
    "## Networks & Graphs\n",
    "\n",
    "a) For each of the following, give an example of a question about a graph that is faster to answer when the graph is stored as:\n",
    "\n",
    "- an adjacency matrix\n",
    "- an adjacency list"
   ]
  },
  {
   "attachments": {},
   "cell_type": "markdown",
   "metadata": {},
   "source": [
    "- Adjacency Matrix:\n",
    "\n",
    "Question: Is there a direct edge between node A and node B?\n",
    "\n",
    "When a graph is stored as an adjacency matrix, it allows for quick look-up of whether an edge exists between two given nodes. To check if there is a direct edge between node A and node B, you only need to access the value at the position (A, B) in the matrix. This operation takes O(1) time complexity, making it very efficient for this type of question.\n",
    "\n",
    "- Adjacency List:\n",
    "\n",
    "Question: What are the neighbors of node A?\n",
    "\n",
    "When a graph is stored as an adjacency list, it is efficient to find the neighbors of a given node. To find the neighbors of node A, you only need to look at the list of nodes adjacent to A. The time complexity of this operation is O(deg(A)), where deg(A) is the degree (number of neighbors) of node A. In sparse graphs, where the number of edges is much less than the number of nodes squared, this operation can be much faster compared to an adjacency matrix, which would require O(n) time complexity, with n being the number of nodes in the graph."
   ]
  },
  {
   "attachments": {},
   "cell_type": "markdown",
   "metadata": {},
   "source": [
    "b) Load the following graph using the networkx library\n",
    "\n",
    "```\n",
    "A : {B, C}\n",
    "B : {A, D, E}\n",
    "C : {A, F}\n",
    "E : {B, G, H}\n",
    "```"
   ]
  },
  {
   "cell_type": "code",
   "execution_count": 2,
   "metadata": {},
   "outputs": [
    {
     "name": "stdout",
     "output_type": "stream",
     "text": [
      "['A', 'B', 'C', 'D', 'E', 'F', 'G', 'H']\n"
     ]
    }
   ],
   "source": [
    "import networkx as nx\n",
    "\n",
    "G = nx.Graph()\n",
    "\n",
    "# Add nodes\n",
    "G.add_nodes_from(['A', 'B', 'C', 'D', 'E', 'F', 'G', 'H'])\n",
    "\n",
    "# Add edges\n",
    "G.add_edges_from([('A', 'B'), ('A', 'C'), ('B', 'A'), ('B', 'D'), ('B', 'E'), ('C', 'A'), ('C', 'F'), ('E', 'B'), ('E', 'G'), ('E', 'H')])\n",
    "\n",
    "print(G.nodes())"
   ]
  },
  {
   "cell_type": "markdown",
   "metadata": {},
   "source": [
    "c) Print the following about the graph:\n",
    "\n",
    "- the diameter\n",
    "- the neighbors of node `A`\n",
    "- the density\n",
    "- degree centrality\n",
    "- closeness centrality\n",
    "- betweenness centrality"
   ]
  },
  {
   "cell_type": "code",
   "execution_count": 3,
   "metadata": {},
   "outputs": [
    {
     "name": "stdout",
     "output_type": "stream",
     "text": [
      "Diameter: 5\n",
      "Neighbors of node A: ['B', 'C']\n",
      "Density: 0.25\n",
      "Degree Centrality: {'A': 0.2857142857142857, 'B': 0.42857142857142855, 'C': 0.2857142857142857, 'D': 0.14285714285714285, 'E': 0.42857142857142855, 'F': 0.14285714285714285, 'G': 0.14285714285714285, 'H': 0.14285714285714285}\n",
      "Closeness Centrality: {'A': 0.5, 'B': 0.5833333333333334, 'C': 0.3888888888888889, 'D': 0.3888888888888889, 'E': 0.5, 'F': 0.2916666666666667, 'G': 0.35, 'H': 0.35}\n",
      "Betweenness Centrality: {'A': 0.47619047619047616, 'B': 0.7142857142857142, 'C': 0.2857142857142857, 'D': 0.0, 'E': 0.5238095238095237, 'F': 0.0, 'G': 0.0, 'H': 0.0}\n"
     ]
    }
   ],
   "source": [
    "# Diameter\n",
    "diameter = nx.diameter(G)\n",
    "print(f\"Diameter: {diameter}\")\n",
    "\n",
    "# Neighbors of node A\n",
    "neighbors_A = list(G.neighbors('A'))\n",
    "print(f\"Neighbors of node A: {neighbors_A}\")\n",
    "\n",
    "# Density\n",
    "density = nx.density(G)\n",
    "print(f\"Density: {density}\")\n",
    "\n",
    "# Degree Centrality\n",
    "degree_centrality = nx.degree_centrality(G)\n",
    "print(f\"Degree Centrality: {degree_centrality}\")\n",
    "\n",
    "# Closeness Centrality\n",
    "closeness_centrality = nx.closeness_centrality(G)\n",
    "print(f\"Closeness Centrality: {closeness_centrality}\")\n",
    "\n",
    "# Betweenness Centrality\n",
    "betweenness_centrality = nx.betweenness_centrality(G)\n",
    "print(f\"Betweenness Centrality: {betweenness_centrality}\")"
   ]
  },
  {
   "cell_type": "markdown",
   "metadata": {},
   "source": [
    "d) What is the Kendall-Tau distance between the following rankings:\n",
    "\n",
    "\n",
    "|   | R_1 | R_2 |\n",
    "|---|-----|-----|\n",
    "| A | 1   |  5  |\n",
    "| B | 2   |  6  |\n",
    "| C | 3   |  7  |\n",
    "| D | 4   |  4  |\n",
    "| E | 5   |  1  |\n",
    "| F | 6   |  2  |\n",
    "| G | 7   |  3  |"
   ]
  },
  {
   "attachments": {},
   "cell_type": "markdown",
   "metadata": {},
   "source": [
    "- R_1: A > B > C > D > E > F > G\n",
    "- R_2: E > F > G > D > A > B > C\n",
    "\n",
    "\n",
    "AD\n",
    "AE\n",
    "AF\n",
    "AG\n",
    "BD\n",
    "BE\n",
    "BF\n",
    "BG\n",
    "CD\n",
    "CE\n",
    "CF\n",
    "CG\n",
    "DE\n",
    "DF\n",
    "DG\n",
    "\n",
    "The kendall-tau distance is 15."
   ]
  }
 ],
 "metadata": {
  "kernelspec": {
   "display_name": "Python 3",
   "language": "python",
   "name": "python3"
  },
  "language_info": {
   "codemirror_mode": {
    "name": "ipython",
    "version": 3
   },
   "file_extension": ".py",
   "mimetype": "text/x-python",
   "name": "python",
   "nbconvert_exporter": "python",
   "pygments_lexer": "ipython3",
   "version": "3.10.8"
  },
  "orig_nbformat": 4,
  "vscode": {
   "interpreter": {
    "hash": "e7370f93d1d0cde622a1f8e1c04877d8463912d04d973331ad4851f04de6915a"
   }
  }
 },
 "nbformat": 4,
 "nbformat_minor": 2
}
